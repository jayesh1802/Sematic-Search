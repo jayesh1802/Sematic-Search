{
  "nbformat": 4,
  "nbformat_minor": 0,
  "metadata": {
    "colab": {
      "provenance": []
    },
    "kernelspec": {
      "name": "python3",
      "display_name": "Python 3"
    },
    "language_info": {
      "name": "python"
    }
  },
  "cells": [
    {
      "cell_type": "code",
      "source": [
        "!ngrok config add-authtoken 2vGMWXrxn69OfjnRRq4urGRPXu1_XCvRa2nVXNtmtnas4gir\n"
      ],
      "metadata": {
        "colab": {
          "base_uri": "https://localhost:8080/"
        },
        "id": "FDNESrz_zBw9",
        "outputId": "56180d81-a7bf-4746-81a8-a23a4c07322a"
      },
      "execution_count": 2,
      "outputs": [
        {
          "output_type": "stream",
          "name": "stdout",
          "text": [
            "Authtoken saved to configuration file: /root/.config/ngrok/ngrok.yml\n"
          ]
        }
      ]
    },
    {
      "cell_type": "code",
      "execution_count": 3,
      "metadata": {
        "id": "Zy1jOnewxW9n"
      },
      "outputs": [],
      "source": [
        "!pip install -q fastapi uvicorn sentence-transformers nest_asyncio pyngrok\n",
        "\n",
        "from fastapi import FastAPI\n",
        "from pydantic import BaseModel\n",
        "from sentence_transformers import SentenceTransformer, util\n",
        "from typing import List\n",
        "import nest_asyncio\n",
        "import uvicorn\n",
        "\n",
        "# Required for Colab\n",
        "nest_asyncio.apply()\n",
        "\n",
        "app = FastAPI()\n",
        "model = SentenceTransformer('all-MiniLM-L6-v2')\n",
        "\n",
        "class QueryRequest(BaseModel):\n",
        "    query: str\n",
        "    questions: List[str]\n",
        "\n",
        "@app.post(\"/similar\")\n",
        "def get_similar(data: QueryRequest):\n",
        "    query_emb = model.encode(data.query, convert_to_tensor=True)\n",
        "    question_embs = model.encode(data.questions, convert_to_tensor=True)\n",
        "    scores = util.cos_sim(query_emb, question_embs)[0]\n",
        "    top_results = sorted(zip(data.questions, scores), key=lambda x: x[1], reverse=True)[:5]\n",
        "    return {\"results\": [{\"question\": q, \"score\": float(s)} for q, s in top_results]}\n"
      ]
    },
    {
      "cell_type": "code",
      "source": [
        "\n",
        "# Tunnel via ngrok\n",
        "from pyngrok import ngrok\n",
        "public_url = ngrok.connect(8082)\n",
        "print(f\"Your public Colab API URL: {public_url}\")\n",
        "\n",
        "uvicorn.run(app, port=8082)\n"
      ],
      "metadata": {
        "colab": {
          "base_uri": "https://localhost:8080/"
        },
        "id": "Oo8BYG5ozG6t",
        "outputId": "612503fc-eabf-401e-e8aa-c0b81e6d0662"
      },
      "execution_count": null,
      "outputs": [
        {
          "output_type": "stream",
          "name": "stdout",
          "text": [
            "Your public Colab API URL: NgrokTunnel: \"https://58c5-34-133-190-139.ngrok-free.app\" -> \"http://localhost:8082\"\n"
          ]
        },
        {
          "output_type": "stream",
          "name": "stderr",
          "text": [
            "INFO:     Started server process [368]\n",
            "INFO:     Waiting for application startup.\n",
            "INFO:     Application startup complete.\n",
            "INFO:     Uvicorn running on http://127.0.0.1:8082 (Press CTRL+C to quit)\n"
          ]
        },
        {
          "output_type": "stream",
          "name": "stdout",
          "text": [
            "INFO:     203.145.49.160:0 - \"POST /similar HTTP/1.1\" 422 Unprocessable Entity\n",
            "INFO:     203.145.49.160:0 - \"POST /similar HTTP/1.1\" 200 OK\n",
            "INFO:     203.145.49.160:0 - \"POST /similar HTTP/1.1\" 200 OK\n"
          ]
        }
      ]
    }
  ]
}